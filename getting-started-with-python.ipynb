{
 "cells": [
  {
   "cell_type": "markdown",
   "id": "12598c8d",
   "metadata": {},
   "source": [
    "# Guía de Python para Ingeniería de Datos 🐍\n",
    "Esta guía busca detallar los temas mas importantes que necesitas aprender de Python para convertirte en un ingeniero de datos.\n",
    "\n",
    "Es un lenguaje de programación sencillo de aprender, pero lo suficientemente poderoso para manejar tareas complejas: desde limpiar archivos enormes, automatizar procesos repetitivos, hasta construir modelos de machine learning e IA.\n",
    "\n",
    "**¿Por qué deberías Aprender Python?**\n",
    "- Acceso mayoritario a oportunidades: Segun algunas encuestas, si el ~74% de las vacantes en ingenieria de datos requiere Python, no saberlo te deja fuera de la mayoría de los puestos disponibles.\n",
    "\n",
    "- Alta demanda y crecimiento sostenido: La ingeniería de datos es uno de los campos tecnológicos más dinámicos, con empleabilidad en alza y remuneración competitiva, donde Python es clave.\n",
    "\n",
    "- Relevancia específica en el ecosistema: Si aspiras a trabajar en pipelines, ETL, infraestructuras, Airflow, PySpark, etc., Python es la herramienta número uno.\n"
   ]
  },
  {
   "cell_type": "markdown",
   "id": "f806d970",
   "metadata": {},
   "source": [
    "### Variables\n",
    "Piensa en una caja con etiqueta donde guardas información. La etiqueta es el nombre de la variable y el contenido puede cambiar (números, texto, etc.). Dicho contenido tiene un tipo que puede ser uno de los siguientes:\n",
    "\n",
    "- `int` : Enteros e.g. `edad = 30`\n",
    "- `float` : Decimales e.g. `precio = 19.99 `\n",
    "- `str` : Cadenas de texto e.g. `nombre = \"Alejandro\"`\n",
    "- `bool`: Booleano e.g. `True or False`"
   ]
  },
  {
   "cell_type": "code",
   "execution_count": 13,
   "id": "c139e765",
   "metadata": {},
   "outputs": [
    {
     "name": "stdout",
     "output_type": "stream",
     "text": [
      "Valor de la variable texto: Hola, soy un texto\n",
      "Tipo de dato de la variable numero: <class 'int'>\n",
      "Tipo de dato de la variable decimal: <class 'float'>\n"
     ]
    }
   ],
   "source": [
    "# Esto es un comentario y no será ejecutado o procesado por Python\n",
    "# ayuda a explicar el código y hacerlo más legible\n",
    "\n",
    "# Creemos variables de diferentes tipos\n",
    "numero = 5\n",
    "decimal = 3.14\n",
    "texto = \"Hola, soy un texto\"\n",
    "booleano = True # También puede ser False\n",
    "\n",
    "# Podemos imprimir el valor de la variable\n",
    "print(\"Valor de la variable texto:\", texto)\n",
    "\n",
    "# Podemos averiguar incluso el tipo de dato de la variable\n",
    "print(\"Tipo de dato de la variable numero:\", type(numero))\n",
    "print(\"Tipo de dato de la variable decimal:\", type(decimal))\n"
   ]
  },
  {
   "cell_type": "markdown",
   "id": "cfa3e154",
   "metadata": {},
   "source": [
    "### Operaciones\n",
    "Son acciones que podemos ejecutar con diferentes tipos de datos. Segun el tipo de dato que tengamos podremos ejecutar una acción específica."
   ]
  },
  {
   "cell_type": "code",
   "execution_count": 14,
   "id": "9bda0742",
   "metadata": {},
   "outputs": [
    {
     "name": "stdout",
     "output_type": "stream",
     "text": [
      "Suma:  8\n",
      "Resta:  3\n",
      "Multiplicación:  20\n",
      "División:  2.5\n",
      "Exponente:  25\n",
      "Módulo:  1\n",
      "\n",
      "Valor original de la variable numero: 5\n",
      "Nuevo valor de la variable numero después de sumar:  15\n",
      "Valor de la nueva variable nuevo_numero:  30\n",
      "Resultado final de la suma de numero y nuevo_numero:  45\n",
      "Valor de la variable numero después de cambiar su tipo de dato:  Ahora soy un texto\n",
      "Tipo de dato de la variable numero después de cambiar su tipo de dato: <class 'str'>\n"
     ]
    }
   ],
   "source": [
    "# Podemos ejecutar operaciones aritméticas\n",
    "print( \"Suma: \", numero + 3)  # Suma 3 al valor actual de la variable \n",
    "print( \"Resta: \", numero - 2) # Resta 2 al valor actual de la variable\n",
    "print( \"Multiplicación: \", numero * 4) # Multiplica el valor actual de la variable por 4\n",
    "print( \"División: \", numero / 2) # Divide el valor actual de la variable por 2\n",
    "print( \"Exponente: \", numero ** 2) # Eleva el valor actual de la variable al cuadrado\n",
    "print( \"Módulo: \", numero % 2) # Devuelve el rest o restante de la división del valor actual de la variable entre 3\n",
    "\n",
    "# Hasta ahora no hemos cambiado el valor de la variable\n",
    "print(\"\\nValor original de la variable numero:\", numero)\n",
    "\n",
    "# Podemos actualizar el valor de la variable con cualquiera de las operaciones anteriores\n",
    "numero = numero + 10  # Suma 10 al valor actual de la variable y lo asigna de nuevo a la variable\n",
    "print(\"Nuevo valor de la variable numero después de sumar: \", numero)\n",
    "\n",
    "# También podemos usar una variable nueva para almacenar el resultado de una operación\n",
    "nuevo_numero = numero * 2  # Multiplica el valor actual de la variable por 2 y lo asigna a una nueva variable\n",
    "print(\"Valor de la nueva variable nuevo_numero: \", nuevo_numero)\n",
    "\n",
    "# Finalmente podemos usar ambas variables en una operación\n",
    "resultado_final = numero + nuevo_numero  # Suma los valores de ambas variables y lo asigna a una nueva variable\n",
    "print(\"Resultado final de la suma de numero y nuevo_numero: \", resultado_final)\n",
    "\n",
    "# O sobre-escribir la variable original con otro tipo de dato\n",
    "numero = \"Ahora soy un texto\"\n",
    "print(\"Valor de la variable numero después de cambiar su tipo de dato: \", numero)\n",
    "print(\"Tipo de dato de la variable numero después de cambiar su tipo de dato:\", type(numero))"
   ]
  },
  {
   "cell_type": "code",
   "execution_count": 27,
   "id": "c2d31dc1",
   "metadata": {},
   "outputs": [
    {
     "name": "stdout",
     "output_type": "stream",
     "text": [
      "\n",
      "Concatenación de texto: ingeniería de datos en Daverse Academy\n",
      "Texto en minúsculas: daverse academy\n",
      "Texto en mayúsculas: DAVERSE ACADEMY\n",
      "Dividir texto en palabras: ['Daverse', 'Academy']\n",
      "Unir palabras en un texto: Daverse - Academy\n",
      "\n",
      "Primer carácter del texto: D\n",
      "Desde el segundo carácter hasta el final: averse Academy\n",
      "Primera palabra del texto: Daverse\n",
      "\n",
      "El texto contiene 'Daverse'? True\n",
      "El texto contiene 'Academy'? False\n",
      "El text comienza con 'Daverse'? True\n",
      "El text termina con 'Academy'? False\n"
     ]
    }
   ],
   "source": [
    "# Las operaciones con texto nos permiten manipular cadenas de caracteres\n",
    "texto_1 = \"ingeniería de datos\"\n",
    "texto_2 = \"Daverse Academy\"\n",
    "\n",
    "print(\"\\nConcatenación de texto:\", texto_1 + \" en \" + texto_2)  # Une dos cadenas de texto\n",
    "\n",
    "# minúsculas y mayúsculas\n",
    "print(\"Texto en minúsculas:\", texto_2.lower())  # Convierte el texto a minúsculas\n",
    "print(\"Texto en mayúsculas:\", texto_2.upper())  # Convierte el texto a mayúsculas\n",
    "\n",
    "# dividir  y unir textos  \n",
    "palabras = texto_2.split(\" \") # Divide el texto por espacios y devuelve una lista de palabras\n",
    "print(\"Dividir texto en palabras:\", palabras)  \n",
    "print(\"Unir palabras en un texto:\", \" - \".join(palabras))  # Une una lista de palabras en un texto separadas por \" - \"\n",
    "\n",
    "# indexation y slicing\n",
    "print(\"\\nPrimer carácter del texto:\", texto_2[0])  # Primer carácter del texto\n",
    "print(\"Desde el segundo carácter hasta el final:\", texto_2[1:])  # Desde el segundo carácter hasta el final\n",
    "print(\"Primera palabra del texto:\", texto_2[:7])  # Primera palabra del texto\n",
    "\n",
    "# operaciones logicas con cadenas de texto\n",
    "print(\"\\nEl texto contiene 'Daverse'?\", \"Daverse\" in texto_2)  # Devuelve True si 'Daverse' está en el texto, de lo contrario False\n",
    "print(\"El texto contiene 'Academy'?\", \"Academy\" in texto_1)  # Devuelve True si 'Academy' está en el texto, de lo contrario False\n",
    "print(\"El text comienza con 'Daverse'?\", texto_2.startswith(\"Daverse\"))  # Devuelve True si el texto comienza con 'Daverse', de lo contrario False\n",
    "print(\"El text termina con 'Academy'?\", texto_1.endswith(\"Academy\"))"
   ]
  },
  {
   "cell_type": "markdown",
   "id": "cc0702bf",
   "metadata": {},
   "source": [
    "### Resultados de Operaciones Logicas con Booleanos\n",
    "\n",
    "| A (bool) | B (bool) | A **and** B | A **or** B |\n",
    "| -------- | -------- | ----------- | ---------- |\n",
    "| True     | True     | True        | True       |\n",
    "| True     | False    | False       | True       |\n",
    "| False    | True     | False       | True       |\n",
    "| False    | False    | False       | False      |\n"
   ]
  },
  {
   "cell_type": "code",
   "execution_count": 29,
   "id": "124fe0f6",
   "metadata": {},
   "outputs": [
    {
     "name": "stdout",
     "output_type": "stream",
     "text": [
      "A y B:  False\n",
      "A o B:  True\n",
      "Negación:  False\n",
      "Negación:  True\n",
      "\n",
      "5 es mayor que 3? True\n",
      "5 es menor que 3? False\n",
      "True\n"
     ]
    }
   ],
   "source": [
    "# Operaciones logicas con booleanos\n",
    "a = True\n",
    "b = False\n",
    "\n",
    "print(\"A y B: \", a and b)  # False\n",
    "print(\"A o B: \", a or b)   # True\n",
    "print(\"Negación: \", not a)  # False\n",
    "print(\"Negación: \", not b)  # True\n",
    "\n",
    "\n",
    "# Operaciones que se transforman en booleanos\n",
    "print(\"\\n5 es mayor que 3?\", 5 > 3)  # True\n",
    "print(\"5 es menor que 3?\", 5 < 3)  # False\n",
    "print(texto_2.startswith(\"Daverse\") and 5 > 3)  # True and True -> True\n"
   ]
  },
  {
   "cell_type": "markdown",
   "id": "183911d0",
   "metadata": {},
   "source": [
    "### Colecciones de Datos"
   ]
  },
  {
   "cell_type": "markdown",
   "id": "0d432c1a",
   "metadata": {},
   "source": [
    "### Controladores de Flujo\n",
    "Los controladores de flujo son las instrucciones que le dicen a tu programa qué camino tomar o qué repetir dependiendo de ciertas condiciones.\n",
    "En otras palabras: son como los semáforos y señales de tráfico en una ciudad 🚦 guiando cómo se mueve tu código.\n",
    "\n",
    "👉 En ingeniería de datos, los controladores de flujo son clave para:\n",
    "\n",
    "- Filtrar datos dependiendo de condiciones.\n",
    "- Repetir procesos en pipelines.\n",
    "- Saltar errores o casos especiales durante el procesamiento.\n",
    "\n",
    "**Condicionales (`if`, `elif`, `else`)**\n",
    "Sirven para tomar decisiones."
   ]
  },
  {
   "cell_type": "code",
   "execution_count": 37,
   "id": "7a50821e",
   "metadata": {},
   "outputs": [
    {
     "name": "stdout",
     "output_type": "stream",
     "text": [
      "La edad no es válida\n"
     ]
    }
   ],
   "source": [
    "# Tenemos controladores de flujo para tomar decisiones en nuestro código\n",
    "edad = -1\n",
    "if edad > 0 and edad <= 10:  \n",
    "    print(\"Estás en la infancia\")\n",
    "\n",
    "elif edad > 10 and edad < 18:\n",
    "    print(\"Eres un adolescente\")\n",
    "\n",
    "elif edad >= 18:\n",
    "    print(\"Eres mayor de edad\")\n",
    "\n",
    "else:\n",
    "    print(\"La edad no es válida\")"
   ]
  },
  {
   "cell_type": "markdown",
   "id": "e1acd104",
   "metadata": {},
   "source": [
    "**Bucles (`for`, `while`)**\n",
    "Sirven para repetir instrucciones hasta que se cumpla una condición o un numero de veces determinado."
   ]
  },
  {
   "cell_type": "code",
   "execution_count": null,
   "id": "9bc4e7a7",
   "metadata": {},
   "outputs": [
    {
     "name": "stdout",
     "output_type": "stream",
     "text": [
      "Proceso número 0\n",
      "Proceso número 1\n",
      "Proceso número 2\n",
      "\n",
      "\n",
      "Contador es: 0\n",
      "Contador es: 1\n",
      "Contador es: 2\n"
     ]
    }
   ],
   "source": [
    "for i in range(3):\n",
    "    print(\"Proceso número\", i)\n",
    "\n",
    "print(\"\\n\")\n",
    "\n",
    "contador = 0\n",
    "while contador < 3:\n",
    "    print(\"Contador es:\", contador)\n",
    "    contador += 1  # Incrementa el contador en 1 es igual a contador = contador + 1"
   ]
  },
  {
   "cell_type": "markdown",
   "id": "dffc33f4",
   "metadata": {},
   "source": [
    "**Saltos de flujo (`break`, `continue`, `pass`)**"
   ]
  },
  {
   "cell_type": "code",
   "execution_count": null,
   "id": "f12fc971",
   "metadata": {},
   "outputs": [],
   "source": [
    "for num in range(5):\n",
    "    if num == 3:\n",
    "        break       # Detiene el bucle\n",
    "    print(num)"
   ]
  },
  {
   "cell_type": "markdown",
   "id": "2660d856",
   "metadata": {},
   "source": [
    "### Funciones"
   ]
  },
  {
   "cell_type": "markdown",
   "id": "8d860015",
   "metadata": {},
   "source": [
    "Una función es un bloque de código reutilizable que realiza una tarea específica.\n",
    "Piensa en ella como una receta de cocina 🍲: defines los pasos una vez, y cada vez que quieras el mismo platillo, solo llamas la receta en lugar de escribir todo otra vez.\n",
    "\n",
    "🔹 ¿Por qué son importantes?\n",
    "\n",
    "- Evitan repetir código.\n",
    "- Hacen el programa más organizado y legible.\n",
    "- Son la base para modularizar pipelines en ingeniería de datos."
   ]
  },
  {
   "cell_type": "code",
   "execution_count": 42,
   "id": "a821b75b",
   "metadata": {},
   "outputs": [],
   "source": [
    "def nombre_funcion(parametros):\n",
    "    # Bloque de código\n",
    "    resultado = parametros * 2  # Ejemplo de operación\n",
    "    return resultado"
   ]
  },
  {
   "cell_type": "markdown",
   "id": "d296309f",
   "metadata": {},
   "source": [
    "\n",
    "`def` → palabra reservada para definir funciones.\n",
    "\n",
    "`nombre_funcion` → el nombre que le das.\n",
    "\n",
    "`parametros` → datos que recibe la función.\n",
    "\n",
    "`return` → valor que devuelve la función (opcional).\n"
   ]
  },
  {
   "cell_type": "markdown",
   "id": "1d331feb",
   "metadata": {},
   "source": [
    "**1. Función simple sin parametros (Constante)**"
   ]
  },
  {
   "cell_type": "code",
   "execution_count": 43,
   "id": "4a8cc53f",
   "metadata": {},
   "outputs": [
    {
     "name": "stdout",
     "output_type": "stream",
     "text": [
      "Hola, Alejandro! bienvenid@ a la Ingeniería de Datos en Daverse Academy\n"
     ]
    }
   ],
   "source": [
    "def saludar(nombre):\n",
    "    print(f\"Hola, {nombre}! bienvenid@ a la Ingeniería de Datos en Daverse Academy\")\n",
    "\n",
    "# Llamamos a la función\n",
    "saludar(\"Alejandro\")  # Reemplaza \"Alejandro\" con cualquier nombre que desees"
   ]
  },
  {
   "cell_type": "markdown",
   "id": "96d2614f",
   "metadata": {},
   "source": [
    "**2. Función con parametros**"
   ]
  },
  {
   "cell_type": "code",
   "execution_count": 45,
   "id": "10021172",
   "metadata": {},
   "outputs": [
    {
     "name": "stdout",
     "output_type": "stream",
     "text": [
      "8\n",
      "Hola Mundo\n"
     ]
    }
   ],
   "source": [
    "def suma(a, b):\n",
    "    return a + b\n",
    "\n",
    "print(suma(5, 3))   # 8\n",
    "\n",
    "def concatenar(texto1, texto2):\n",
    "    return texto1 + \" \" + texto2\n",
    "\n",
    "print(concatenar(\"Hola\", \"Mundo\"))  # \"Hola Mundo\""
   ]
  },
  {
   "cell_type": "markdown",
   "id": "a72837de",
   "metadata": {},
   "source": [
    "**3. Función aplicada a datos (caso práctico DE)**"
   ]
  },
  {
   "cell_type": "code",
   "execution_count": 48,
   "id": "843ef6c2",
   "metadata": {},
   "outputs": [
    {
     "name": "stdout",
     "output_type": "stream",
     "text": [
      "Alejandro\n"
     ]
    }
   ],
   "source": [
    "def limpiar_texto(texto):\n",
    "    return texto.strip().capitalize()\n",
    "\n",
    "nombre = \"   aLeJaNDrO   \" # Variable con espacios y mayúsculas\n",
    "print(limpiar_texto(nombre))  # \"alejandro\"\n"
   ]
  },
  {
   "cell_type": "markdown",
   "id": "9c07dad3",
   "metadata": {},
   "source": [
    "### Manipulación de Datos"
   ]
  },
  {
   "cell_type": "code",
   "execution_count": null,
   "id": "0d760e23",
   "metadata": {},
   "outputs": [],
   "source": []
  }
 ],
 "metadata": {
  "kernelspec": {
   "display_name": "Python 3 (ipykernel)",
   "language": "python",
   "name": "python3"
  },
  "language_info": {
   "codemirror_mode": {
    "name": "ipython",
    "version": 3
   },
   "file_extension": ".py",
   "mimetype": "text/x-python",
   "name": "python",
   "nbconvert_exporter": "python",
   "pygments_lexer": "ipython3",
   "version": "3.11.11"
  }
 },
 "nbformat": 4,
 "nbformat_minor": 5
}
