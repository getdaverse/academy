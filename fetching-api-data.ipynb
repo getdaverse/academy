{
 "cells": [
  {
   "cell_type": "markdown",
   "id": "d63845e2",
   "metadata": {},
   "source": [
    "# Application Programming Interface\n",
    "\n",
    "🔹 ¿Qué es una API?\n",
    "Una API es como un mesero en un restaurante 🍽️:\n",
    "- Tú (el cliente) pides un plato (haces una solicitud).\n",
    "- El mesero (la API) lleva tu pedido a la cocina (el sistema interno).\n",
    "- La cocina prepara la comida y se la entrega al mesero.\n",
    "- El mesero regresa con el plato listo (la respuesta) y te lo sirve.\n",
    "- Es decir, una API permite que dos programas distintos hablen entre sí de forma estructurada, sin que tú tengas que saber cómo funciona la “cocina” interna.\n",
    "\n",
    "🔹 Tipos de API más comunes\n",
    "- REST → Para traer datos de servicios web, APIs públicas, redes sociales, etc.\n",
    "- SOAP → Para integrarse con sistemas empresariales más antiguos.\n",
    "- GraphQL → Cuando necesitas optimizar llamadas y reducir “datos extra” que no usarás.\n",
    "\n",
    "🔹 ¿Por qué son importantes?\n",
    "- Permiten conectar aplicaciones y traer datos externos (clima, finanzas, redes sociales, etc.).\n",
    "- Son la forma estándar de intercambio de datos en la web.\n",
    "- En proyectos de ingeniería de datos, se usan mucho en la fase E (Extract) de ETL, cuando necesitamos traer datos de fuentes externas."
   ]
  },
  {
   "cell_type": "code",
   "execution_count": 1,
   "id": "5958f567",
   "metadata": {},
   "outputs": [],
   "source": [
    "import requests\n",
    "import json"
   ]
  },
  {
   "cell_type": "code",
   "execution_count": null,
   "id": "ddd0c31e",
   "metadata": {},
   "outputs": [
    {
     "name": "stdout",
     "output_type": "stream",
     "text": [
      "{'time': '2025-09-03T20:45', 'interval': 900, 'temperature': 25.8, 'windspeed': 8.9, 'winddirection': 243, 'is_day': 0, 'weathercode': 3}\n"
     ]
    }
   ],
   "source": [
    "# Ejemplo: usar una API pública para obtener datos de clima\n",
    "respuesta = requests.get(\"https://api.open-meteo.com/v1/forecast?latitude=40.4&longitude=-3.7&current_weather=true\")\n",
    "\n",
    "# Convertir la respuesta a JSON (diccionario en Python)\n",
    "clima = respuesta.json()\n",
    "print(clima[\"current_weather\"])"
   ]
  },
  {
   "cell_type": "markdown",
   "id": "00a38b23",
   "metadata": {},
   "source": [
    "💡 Para trabajar con APIs en Python, utilizamos los modulos de [requests](https://pypi.org/project/requests/) y [json](https://docs.python.org/3/library/json.html). \n",
    "\n",
    "## HTTP Request\n",
    "Un HTTP request (solicitud HTTP) es un mensaje que un cliente (como tu navegador o un programa en Python) envía a un servidor para pedir o enviar información. El modulo `requests` nos permite hacer nuestras peticiones a la API utilizando Python.\n",
    "\n",
    "🔹 Partes principales de un HTTP Request\n",
    "1. **Método** → Indica qué acción quieres hacer.\n",
    "    GET → Pedir información.\n",
    "\n",
    "    POST → Enviar información.\n",
    "\n",
    "    PUT → Actualizar información.\n",
    "\n",
    "    DELETE → Borrar información.\n",
    "    \n",
    "2. **URL** → La dirección del recurso en el servidor.\n",
    "Ejemplo: https://f1api.dev/api/current/last/race\n",
    "\n",
    "3. **Headers (encabezados)** → Información adicional (ej: autenticación, tipo de datos).\n",
    "4. **Body (cuerpo)** → Datos que envías (solo en métodos como POST o PUT)."
   ]
  },
  {
   "cell_type": "markdown",
   "id": "3c683b54",
   "metadata": {},
   "source": [
    "### JSON\n",
    "\n",
    "🔹 ¿Qué es JSON?\n",
    "- Es un formato de intercambio de datos ligero y muy usado en la web.\n",
    "- Se parece mucho a un diccionario de Python: usa pares clave: valor.\n",
    "- Es el estándar con el que las APIs devuelven información (ej: clima, usuarios, transacciones).\n",
    "\n",
    "🔹 ¿Para qué sirve el módulo json en Python?\n",
    "- Convertir JSON → Python (leer datos de una API o archivo y usarlos en tu programa).\n",
    "- Convertir Python → JSON (enviar datos en formato estándar a otra aplicación o API).\n",
    "- Leer y guardar archivos JSON fácilmente.\n",
    "\n",
    "Ejemplo de JSON:"
   ]
  },
  {
   "cell_type": "markdown",
   "id": "309f0a6a",
   "metadata": {},
   "source": [
    "```\n",
    "{\n",
    "  \"id\": 101,\n",
    "  \"nombre\": \"Laura\",\n",
    "  \"activo\": true,\n",
    "  \"compras\": [\"laptop\", \"mouse\"]\n",
    "}\n",
    "\n",
    "```"
   ]
  },
  {
   "cell_type": "code",
   "execution_count": null,
   "id": "33f7f15c",
   "metadata": {},
   "outputs": [],
   "source": []
  }
 ],
 "metadata": {
  "kernelspec": {
   "display_name": ".venv",
   "language": "python",
   "name": "python3"
  },
  "language_info": {
   "codemirror_mode": {
    "name": "ipython",
    "version": 3
   },
   "file_extension": ".py",
   "mimetype": "text/x-python",
   "name": "python",
   "nbconvert_exporter": "python",
   "pygments_lexer": "ipython3",
   "version": "3.11.11"
  }
 },
 "nbformat": 4,
 "nbformat_minor": 5
}
